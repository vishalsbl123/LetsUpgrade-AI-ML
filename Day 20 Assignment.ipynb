{
 "cells": [
  {
   "cell_type": "markdown",
   "metadata": {},
   "source": [
    "# Question 1: Anova\n",
    "Three archers – Pat, Jack, and Alex are participating in an archery contest. They are shooting at\n",
    "targets with 10 evenly spaced concentric rings. The rings have score values from 1 through 10\n",
    "assigned to them, with 10 being the highest. Each participant shoots 6 arrow, scoring the\n",
    "following points:  Pat – 5, 4, 4, 3, 9, 4   Jack – 4, 8, 7, 5, 1, 5    Alex – 9, 9, 8, 10, 4, 10\n",
    "Based on the above results we would like to know who the best archer is. In other words our null\n",
    "hypothesis is that the means of all populations are equal."
   ]
  },
  {
   "cell_type": "code",
   "execution_count": 1,
   "metadata": {},
   "outputs": [],
   "source": [
    "import pandas as pd"
   ]
  },
  {
   "cell_type": "code",
   "execution_count": 4,
   "metadata": {},
   "outputs": [
    {
     "name": "stdout",
     "output_type": "stream",
     "text": [
      "[5, 4, 4, 3, 9, 4, 4, 8, 7, 5, 1, 5, 9, 9, 8, 10, 4, 10]\n"
     ]
    }
   ],
   "source": [
    "pat=[5, 4, 4, 3, 9, 4]\n",
    "\n",
    "jack=[4, 8, 7, 5, 1, 5 ]\n",
    "\n",
    "alex=[9, 9, 8, 10, 4, 10]\n",
    "\n",
    "\n",
    "score = pat + jack + alex\n",
    "print(score)"
   ]
  },
  {
   "cell_type": "code",
   "execution_count": 5,
   "metadata": {},
   "outputs": [
    {
     "name": "stdout",
     "output_type": "stream",
     "text": [
      "['pat', 'pat', 'pat', 'pat', 'pat', 'pat', 'jack', 'jack', 'jack', 'jack', 'jack', 'jack', 'alex', 'alex', 'alex', 'alex', 'alex', 'alex']\n"
     ]
    }
   ],
   "source": [
    "company_names = (['pat'] * len(pat)) +  (['jack'] * len(jack)) +  (['alex'] * len(alex))\n",
    "print(company_names)"
   ]
  },
  {
   "cell_type": "code",
   "execution_count": 6,
   "metadata": {},
   "outputs": [
    {
     "name": "stdout",
     "output_type": "stream",
     "text": [
      "    name  score\n",
      "0    pat      5\n",
      "1    pat      4\n",
      "2    pat      4\n",
      "3    pat      3\n",
      "4    pat      9\n",
      "5    pat      4\n",
      "6   jack      4\n",
      "7   jack      8\n",
      "8   jack      7\n",
      "9   jack      5\n",
      "10  jack      1\n",
      "11  jack      5\n",
      "12  alex      9\n",
      "13  alex      9\n",
      "14  alex      8\n",
      "15  alex     10\n",
      "16  alex      4\n",
      "17  alex     10\n"
     ]
    }
   ],
   "source": [
    "data = pd.DataFrame({'name':company_names ,'score':score})\n",
    "print(data)"
   ]
  },
  {
   "cell_type": "code",
   "execution_count": 7,
   "metadata": {},
   "outputs": [
    {
     "data": {
      "text/html": [
       "<div>\n",
       "<style scoped>\n",
       "    .dataframe tbody tr th:only-of-type {\n",
       "        vertical-align: middle;\n",
       "    }\n",
       "\n",
       "    .dataframe tbody tr th {\n",
       "        vertical-align: top;\n",
       "    }\n",
       "\n",
       "    .dataframe thead th {\n",
       "        text-align: right;\n",
       "    }\n",
       "</style>\n",
       "<table border=\"1\" class=\"dataframe\">\n",
       "  <thead>\n",
       "    <tr style=\"text-align: right;\">\n",
       "      <th></th>\n",
       "      <th>score</th>\n",
       "    </tr>\n",
       "    <tr>\n",
       "      <th>name</th>\n",
       "      <th></th>\n",
       "    </tr>\n",
       "  </thead>\n",
       "  <tbody>\n",
       "    <tr>\n",
       "      <th>alex</th>\n",
       "      <td>8.333333</td>\n",
       "    </tr>\n",
       "    <tr>\n",
       "      <th>jack</th>\n",
       "      <td>5.000000</td>\n",
       "    </tr>\n",
       "    <tr>\n",
       "      <th>pat</th>\n",
       "      <td>4.833333</td>\n",
       "    </tr>\n",
       "  </tbody>\n",
       "</table>\n",
       "</div>"
      ],
      "text/plain": [
       "         score\n",
       "name          \n",
       "alex  8.333333\n",
       "jack  5.000000\n",
       "pat   4.833333"
      ]
     },
     "execution_count": 7,
     "metadata": {},
     "output_type": "execute_result"
    }
   ],
   "source": [
    "data.groupby('name').mean()"
   ]
  },
  {
   "cell_type": "code",
   "execution_count": 9,
   "metadata": {},
   "outputs": [],
   "source": [
    "import statsmodels.api as sm\n",
    "from statsmodels.formula.api import ols"
   ]
  },
  {
   "cell_type": "markdown",
   "metadata": {},
   "source": [
    "# Anova 1 way table.."
   ]
  },
  {
   "cell_type": "code",
   "execution_count": 11,
   "metadata": {},
   "outputs": [
    {
     "data": {
      "text/html": [
       "<div>\n",
       "<style scoped>\n",
       "    .dataframe tbody tr th:only-of-type {\n",
       "        vertical-align: middle;\n",
       "    }\n",
       "\n",
       "    .dataframe tbody tr th {\n",
       "        vertical-align: top;\n",
       "    }\n",
       "\n",
       "    .dataframe thead th {\n",
       "        text-align: right;\n",
       "    }\n",
       "</style>\n",
       "<table border=\"1\" class=\"dataframe\">\n",
       "  <thead>\n",
       "    <tr style=\"text-align: right;\">\n",
       "      <th></th>\n",
       "      <th>df</th>\n",
       "      <th>sum_sq</th>\n",
       "      <th>mean_sq</th>\n",
       "      <th>F</th>\n",
       "      <th>PR(&gt;F)</th>\n",
       "    </tr>\n",
       "  </thead>\n",
       "  <tbody>\n",
       "    <tr>\n",
       "      <th>name</th>\n",
       "      <td>2.0</td>\n",
       "      <td>46.777778</td>\n",
       "      <td>23.388889</td>\n",
       "      <td>4.488273</td>\n",
       "      <td>0.029668</td>\n",
       "    </tr>\n",
       "    <tr>\n",
       "      <th>Residual</th>\n",
       "      <td>15.0</td>\n",
       "      <td>78.166667</td>\n",
       "      <td>5.211111</td>\n",
       "      <td>NaN</td>\n",
       "      <td>NaN</td>\n",
       "    </tr>\n",
       "  </tbody>\n",
       "</table>\n",
       "</div>"
      ],
      "text/plain": [
       "            df     sum_sq    mean_sq         F    PR(>F)\n",
       "name       2.0  46.777778  23.388889  4.488273  0.029668\n",
       "Residual  15.0  78.166667   5.211111       NaN       NaN"
      ]
     },
     "execution_count": 11,
     "metadata": {},
     "output_type": "execute_result"
    }
   ],
   "source": [
    "lm = ols('score ~ name',data=data).fit()\n",
    "table = sm.stats.anova_lm(lm)\n",
    "table"
   ]
  },
  {
   "cell_type": "code",
   "execution_count": 6,
   "metadata": {},
   "outputs": [
    {
     "name": "stdout",
     "output_type": "stream",
     "text": [
      "Requirement already satisfied: pingouin in c:\\users\\vishal\\anaconda3\\lib\\site-packages (0.3.8)\n",
      "Requirement already satisfied: pandas>=0.24 in c:\\users\\vishal\\anaconda3\\lib\\site-packages (from pingouin) (1.0.1)\n",
      "Requirement already satisfied: numpy>=1.15 in c:\\users\\vishal\\anaconda3\\lib\\site-packages (from pingouin) (1.18.1)\n",
      "Requirement already satisfied: scipy>=1.3 in c:\\users\\vishal\\anaconda3\\lib\\site-packages (from pingouin) (1.4.1)\n",
      "Requirement already satisfied: scikit-learn in c:\\users\\vishal\\anaconda3\\lib\\site-packages (from pingouin) (0.22.1)\n",
      "Requirement already satisfied: outdated in c:\\users\\vishal\\anaconda3\\lib\\site-packages (from pingouin) (0.2.0)\n",
      "Requirement already satisfied: tabulate in c:\\users\\vishal\\anaconda3\\lib\\site-packages (from pingouin) (0.8.7)\n",
      "Requirement already satisfied: matplotlib>=3.0.2 in c:\\users\\vishal\\anaconda3\\lib\\site-packages (from pingouin) (3.1.3)\n",
      "Requirement already satisfied: statsmodels>=0.10.0 in c:\\users\\vishal\\anaconda3\\lib\\site-packages (from pingouin) (0.11.0)\n",
      "Requirement already satisfied: seaborn>=0.9.0 in c:\\users\\vishal\\anaconda3\\lib\\site-packages (from pingouin) (0.10.0)\n",
      "Requirement already satisfied: pandas-flavor>=0.1.2 in c:\\users\\vishal\\anaconda3\\lib\\site-packages (from pingouin) (0.2.0)\n",
      "Requirement already satisfied: pytz>=2017.2 in c:\\users\\vishal\\anaconda3\\lib\\site-packages (from pandas>=0.24->pingouin) (2019.3)\n",
      "Requirement already satisfied: python-dateutil>=2.6.1 in c:\\users\\vishal\\anaconda3\\lib\\site-packages (from pandas>=0.24->pingouin) (2.8.1)\n",
      "Requirement already satisfied: joblib>=0.11 in c:\\users\\vishal\\anaconda3\\lib\\site-packages (from scikit-learn->pingouin) (0.14.1)\n",
      "Requirement already satisfied: requests in c:\\users\\vishal\\anaconda3\\lib\\site-packages (from outdated->pingouin) (2.22.0)\n",
      "Requirement already satisfied: littleutils in c:\\users\\vishal\\anaconda3\\lib\\site-packages (from outdated->pingouin) (0.2.2)\n",
      "Requirement already satisfied: cycler>=0.10 in c:\\users\\vishal\\anaconda3\\lib\\site-packages (from matplotlib>=3.0.2->pingouin) (0.10.0)\n",
      "Requirement already satisfied: kiwisolver>=1.0.1 in c:\\users\\vishal\\anaconda3\\lib\\site-packages (from matplotlib>=3.0.2->pingouin) (1.1.0)\n",
      "Requirement already satisfied: pyparsing!=2.0.4,!=2.1.2,!=2.1.6,>=2.0.1 in c:\\users\\vishal\\anaconda3\\lib\\site-packages (from matplotlib>=3.0.2->pingouin) (2.4.6)\n",
      "Requirement already satisfied: patsy>=0.5 in c:\\users\\vishal\\anaconda3\\lib\\site-packages (from statsmodels>=0.10.0->pingouin) (0.5.1)\n",
      "Requirement already satisfied: xarray in c:\\users\\vishal\\anaconda3\\lib\\site-packages (from pandas-flavor>=0.1.2->pingouin) (0.16.1)\n",
      "Requirement already satisfied: six>=1.5 in c:\\users\\vishal\\anaconda3\\lib\\site-packages (from python-dateutil>=2.6.1->pandas>=0.24->pingouin) (1.14.0)\n",
      "Requirement already satisfied: urllib3!=1.25.0,!=1.25.1,<1.26,>=1.21.1 in c:\\users\\vishal\\anaconda3\\lib\\site-packages (from requests->outdated->pingouin) (1.25.8)\n",
      "Requirement already satisfied: idna<2.9,>=2.5 in c:\\users\\vishal\\anaconda3\\lib\\site-packages (from requests->outdated->pingouin) (2.8)\n",
      "Requirement already satisfied: certifi>=2017.4.17 in c:\\users\\vishal\\anaconda3\\lib\\site-packages (from requests->outdated->pingouin) (2019.11.28)\n",
      "Requirement already satisfied: chardet<3.1.0,>=3.0.2 in c:\\users\\vishal\\anaconda3\\lib\\site-packages (from requests->outdated->pingouin) (3.0.4)\n",
      "Requirement already satisfied: setuptools in c:\\users\\vishal\\anaconda3\\lib\\site-packages (from kiwisolver>=1.0.1->matplotlib>=3.0.2->pingouin) (45.2.0.post20200210)\n",
      "Note: you may need to restart the kernel to use updated packages.\n"
     ]
    }
   ],
   "source": [
    "pip install pingouin"
   ]
  },
  {
   "cell_type": "code",
   "execution_count": 7,
   "metadata": {},
   "outputs": [],
   "source": [
    "from pingouin import ancova"
   ]
  },
  {
   "cell_type": "code",
   "execution_count": null,
   "metadata": {},
   "outputs": [],
   "source": []
  }
 ],
 "metadata": {
  "kernelspec": {
   "display_name": "Python 3",
   "language": "python",
   "name": "python3"
  },
  "language_info": {
   "codemirror_mode": {
    "name": "ipython",
    "version": 3
   },
   "file_extension": ".py",
   "mimetype": "text/x-python",
   "name": "python",
   "nbconvert_exporter": "python",
   "pygments_lexer": "ipython3",
   "version": "3.7.6"
  }
 },
 "nbformat": 4,
 "nbformat_minor": 4
}
